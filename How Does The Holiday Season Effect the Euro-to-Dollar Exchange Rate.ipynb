{
 "cells": [
  {
   "cell_type": "markdown",
   "metadata": {},
   "source": [
    "## Guided Project: Storytelling Data Visualization on Exchange Rates"
   ]
  },
  {
   "cell_type": "markdown",
   "metadata": {},
   "source": [
    "It is interesting to note that while in the USA, the strongest days of holiday shopping are Black Friday and Cyber Monday, this is not the case universally. In China, the busiest day is Singles Day in early November, while in many European countries, the busiest day is December 7. Given that a strong holiday season is an important economic indicator, and the exchange rate is very much impacted by economic conditions, we will explore if there are significant fluctuations in the rate surrounding the holiday season."
   ]
  },
  {
   "cell_type": "code",
   "execution_count": 1,
   "metadata": {},
   "outputs": [
    {
     "data": {
      "text/html": [
       "<div>\n",
       "<style scoped>\n",
       "    .dataframe tbody tr th:only-of-type {\n",
       "        vertical-align: middle;\n",
       "    }\n",
       "\n",
       "    .dataframe tbody tr th {\n",
       "        vertical-align: top;\n",
       "    }\n",
       "\n",
       "    .dataframe thead th {\n",
       "        text-align: right;\n",
       "    }\n",
       "</style>\n",
       "<table border=\"1\" class=\"dataframe\">\n",
       "  <thead>\n",
       "    <tr style=\"text-align: right;\">\n",
       "      <th></th>\n",
       "      <th>Period\\Unit:</th>\n",
       "      <th>[Australian dollar ]</th>\n",
       "      <th>[Bulgarian lev ]</th>\n",
       "      <th>[Brazilian real ]</th>\n",
       "      <th>[Canadian dollar ]</th>\n",
       "      <th>[Swiss franc ]</th>\n",
       "      <th>[Chinese yuan renminbi ]</th>\n",
       "      <th>[Cypriot pound ]</th>\n",
       "      <th>[Czech koruna ]</th>\n",
       "      <th>[Danish krone ]</th>\n",
       "      <th>...</th>\n",
       "      <th>[Romanian leu ]</th>\n",
       "      <th>[Russian rouble ]</th>\n",
       "      <th>[Swedish krona ]</th>\n",
       "      <th>[Singapore dollar ]</th>\n",
       "      <th>[Slovenian tolar ]</th>\n",
       "      <th>[Slovak koruna ]</th>\n",
       "      <th>[Thai baht ]</th>\n",
       "      <th>[Turkish lira ]</th>\n",
       "      <th>[US dollar ]</th>\n",
       "      <th>[South African rand ]</th>\n",
       "    </tr>\n",
       "  </thead>\n",
       "  <tbody>\n",
       "    <tr>\n",
       "      <th>0</th>\n",
       "      <td>2021-01-08</td>\n",
       "      <td>1.5758</td>\n",
       "      <td>1.9558</td>\n",
       "      <td>6.5748</td>\n",
       "      <td>1.5543</td>\n",
       "      <td>1.0827</td>\n",
       "      <td>7.9184</td>\n",
       "      <td>NaN</td>\n",
       "      <td>26.163</td>\n",
       "      <td>7.4369</td>\n",
       "      <td>...</td>\n",
       "      <td>4.8708</td>\n",
       "      <td>90.8000</td>\n",
       "      <td>10.0510</td>\n",
       "      <td>1.6228</td>\n",
       "      <td>NaN</td>\n",
       "      <td>NaN</td>\n",
       "      <td>36.8480</td>\n",
       "      <td>9.0146</td>\n",
       "      <td>1.2250</td>\n",
       "      <td>18.7212</td>\n",
       "    </tr>\n",
       "    <tr>\n",
       "      <th>1</th>\n",
       "      <td>2021-01-07</td>\n",
       "      <td>1.5836</td>\n",
       "      <td>1.9558</td>\n",
       "      <td>6.5172</td>\n",
       "      <td>1.5601</td>\n",
       "      <td>1.0833</td>\n",
       "      <td>7.9392</td>\n",
       "      <td>NaN</td>\n",
       "      <td>26.147</td>\n",
       "      <td>7.4392</td>\n",
       "      <td>...</td>\n",
       "      <td>4.8712</td>\n",
       "      <td>91.2000</td>\n",
       "      <td>10.0575</td>\n",
       "      <td>1.6253</td>\n",
       "      <td>NaN</td>\n",
       "      <td>NaN</td>\n",
       "      <td>36.8590</td>\n",
       "      <td>8.9987</td>\n",
       "      <td>1.2276</td>\n",
       "      <td>18.7919</td>\n",
       "    </tr>\n",
       "    <tr>\n",
       "      <th>2</th>\n",
       "      <td>2021-01-06</td>\n",
       "      <td>1.5824</td>\n",
       "      <td>1.9558</td>\n",
       "      <td>6.5119</td>\n",
       "      <td>1.5640</td>\n",
       "      <td>1.0821</td>\n",
       "      <td>7.9653</td>\n",
       "      <td>NaN</td>\n",
       "      <td>26.145</td>\n",
       "      <td>7.4393</td>\n",
       "      <td>...</td>\n",
       "      <td>4.8720</td>\n",
       "      <td>90.8175</td>\n",
       "      <td>10.0653</td>\n",
       "      <td>1.6246</td>\n",
       "      <td>NaN</td>\n",
       "      <td>NaN</td>\n",
       "      <td>36.9210</td>\n",
       "      <td>9.0554</td>\n",
       "      <td>1.2338</td>\n",
       "      <td>18.5123</td>\n",
       "    </tr>\n",
       "    <tr>\n",
       "      <th>3</th>\n",
       "      <td>2021-01-05</td>\n",
       "      <td>1.5927</td>\n",
       "      <td>1.9558</td>\n",
       "      <td>6.5517</td>\n",
       "      <td>1.5651</td>\n",
       "      <td>1.0803</td>\n",
       "      <td>7.9315</td>\n",
       "      <td>NaN</td>\n",
       "      <td>26.227</td>\n",
       "      <td>7.4387</td>\n",
       "      <td>...</td>\n",
       "      <td>4.8721</td>\n",
       "      <td>91.6715</td>\n",
       "      <td>10.0570</td>\n",
       "      <td>1.6180</td>\n",
       "      <td>NaN</td>\n",
       "      <td>NaN</td>\n",
       "      <td>36.7760</td>\n",
       "      <td>9.0694</td>\n",
       "      <td>1.2271</td>\n",
       "      <td>18.4194</td>\n",
       "    </tr>\n",
       "    <tr>\n",
       "      <th>4</th>\n",
       "      <td>2021-01-04</td>\n",
       "      <td>1.5928</td>\n",
       "      <td>1.9558</td>\n",
       "      <td>6.3241</td>\n",
       "      <td>1.5621</td>\n",
       "      <td>1.0811</td>\n",
       "      <td>7.9484</td>\n",
       "      <td>NaN</td>\n",
       "      <td>26.141</td>\n",
       "      <td>7.4379</td>\n",
       "      <td>...</td>\n",
       "      <td>4.8713</td>\n",
       "      <td>90.3420</td>\n",
       "      <td>10.0895</td>\n",
       "      <td>1.6198</td>\n",
       "      <td>NaN</td>\n",
       "      <td>NaN</td>\n",
       "      <td>36.7280</td>\n",
       "      <td>9.0579</td>\n",
       "      <td>1.2296</td>\n",
       "      <td>17.9214</td>\n",
       "    </tr>\n",
       "  </tbody>\n",
       "</table>\n",
       "<p>5 rows × 41 columns</p>\n",
       "</div>"
      ],
      "text/plain": [
       "  Period\\Unit: [Australian dollar ] [Bulgarian lev ] [Brazilian real ]  \\\n",
       "0   2021-01-08               1.5758           1.9558            6.5748   \n",
       "1   2021-01-07               1.5836           1.9558            6.5172   \n",
       "2   2021-01-06               1.5824           1.9558            6.5119   \n",
       "3   2021-01-05               1.5927           1.9558            6.5517   \n",
       "4   2021-01-04               1.5928           1.9558            6.3241   \n",
       "\n",
       "  [Canadian dollar ] [Swiss franc ] [Chinese yuan renminbi ] [Cypriot pound ]  \\\n",
       "0             1.5543         1.0827                   7.9184              NaN   \n",
       "1             1.5601         1.0833                   7.9392              NaN   \n",
       "2             1.5640         1.0821                   7.9653              NaN   \n",
       "3             1.5651         1.0803                   7.9315              NaN   \n",
       "4             1.5621         1.0811                   7.9484              NaN   \n",
       "\n",
       "  [Czech koruna ] [Danish krone ]  ... [Romanian leu ] [Russian rouble ]  \\\n",
       "0          26.163          7.4369  ...          4.8708           90.8000   \n",
       "1          26.147          7.4392  ...          4.8712           91.2000   \n",
       "2          26.145          7.4393  ...          4.8720           90.8175   \n",
       "3          26.227          7.4387  ...          4.8721           91.6715   \n",
       "4          26.141          7.4379  ...          4.8713           90.3420   \n",
       "\n",
       "  [Swedish krona ] [Singapore dollar ] [Slovenian tolar ] [Slovak koruna ]  \\\n",
       "0          10.0510              1.6228                NaN              NaN   \n",
       "1          10.0575              1.6253                NaN              NaN   \n",
       "2          10.0653              1.6246                NaN              NaN   \n",
       "3          10.0570              1.6180                NaN              NaN   \n",
       "4          10.0895              1.6198                NaN              NaN   \n",
       "\n",
       "  [Thai baht ] [Turkish lira ] [US dollar ]  [South African rand ]  \n",
       "0      36.8480          9.0146       1.2250                18.7212  \n",
       "1      36.8590          8.9987       1.2276                18.7919  \n",
       "2      36.9210          9.0554       1.2338                18.5123  \n",
       "3      36.7760          9.0694       1.2271                18.4194  \n",
       "4      36.7280          9.0579       1.2296                17.9214  \n",
       "\n",
       "[5 rows x 41 columns]"
      ]
     },
     "execution_count": 1,
     "metadata": {},
     "output_type": "execute_result"
    }
   ],
   "source": [
    "import pandas as pd\n",
    "import matplotlib.pyplot as plt\n",
    "%matplotlib inline\n",
    "import datetime as dt\n",
    "\n",
    "exchange_rates = pd.read_csv('euro-daily-hist_1999_2020.csv')\n",
    "\n",
    "exchange_rates.head(5)"
   ]
  },
  {
   "cell_type": "code",
   "execution_count": 2,
   "metadata": {},
   "outputs": [
    {
     "data": {
      "text/html": [
       "<div>\n",
       "<style scoped>\n",
       "    .dataframe tbody tr th:only-of-type {\n",
       "        vertical-align: middle;\n",
       "    }\n",
       "\n",
       "    .dataframe tbody tr th {\n",
       "        vertical-align: top;\n",
       "    }\n",
       "\n",
       "    .dataframe thead th {\n",
       "        text-align: right;\n",
       "    }\n",
       "</style>\n",
       "<table border=\"1\" class=\"dataframe\">\n",
       "  <thead>\n",
       "    <tr style=\"text-align: right;\">\n",
       "      <th></th>\n",
       "      <th>Period\\Unit:</th>\n",
       "      <th>[Australian dollar ]</th>\n",
       "      <th>[Bulgarian lev ]</th>\n",
       "      <th>[Brazilian real ]</th>\n",
       "      <th>[Canadian dollar ]</th>\n",
       "      <th>[Swiss franc ]</th>\n",
       "      <th>[Chinese yuan renminbi ]</th>\n",
       "      <th>[Cypriot pound ]</th>\n",
       "      <th>[Czech koruna ]</th>\n",
       "      <th>[Danish krone ]</th>\n",
       "      <th>...</th>\n",
       "      <th>[Romanian leu ]</th>\n",
       "      <th>[Russian rouble ]</th>\n",
       "      <th>[Swedish krona ]</th>\n",
       "      <th>[Singapore dollar ]</th>\n",
       "      <th>[Slovenian tolar ]</th>\n",
       "      <th>[Slovak koruna ]</th>\n",
       "      <th>[Thai baht ]</th>\n",
       "      <th>[Turkish lira ]</th>\n",
       "      <th>[US dollar ]</th>\n",
       "      <th>[South African rand ]</th>\n",
       "    </tr>\n",
       "  </thead>\n",
       "  <tbody>\n",
       "    <tr>\n",
       "      <th>5694</th>\n",
       "      <td>1999-01-08</td>\n",
       "      <td>1.8406</td>\n",
       "      <td>NaN</td>\n",
       "      <td>NaN</td>\n",
       "      <td>1.7643</td>\n",
       "      <td>1.6138</td>\n",
       "      <td>NaN</td>\n",
       "      <td>0.58187</td>\n",
       "      <td>34.938</td>\n",
       "      <td>7.4433</td>\n",
       "      <td>...</td>\n",
       "      <td>1.3143</td>\n",
       "      <td>27.2075</td>\n",
       "      <td>9.1650</td>\n",
       "      <td>1.9537</td>\n",
       "      <td>188.8400</td>\n",
       "      <td>42.560</td>\n",
       "      <td>42.5590</td>\n",
       "      <td>0.3718</td>\n",
       "      <td>1.1659</td>\n",
       "      <td>6.7855</td>\n",
       "    </tr>\n",
       "    <tr>\n",
       "      <th>5695</th>\n",
       "      <td>1999-01-07</td>\n",
       "      <td>1.8474</td>\n",
       "      <td>NaN</td>\n",
       "      <td>NaN</td>\n",
       "      <td>1.7602</td>\n",
       "      <td>1.6165</td>\n",
       "      <td>NaN</td>\n",
       "      <td>0.58187</td>\n",
       "      <td>34.886</td>\n",
       "      <td>7.4431</td>\n",
       "      <td>...</td>\n",
       "      <td>1.3092</td>\n",
       "      <td>26.9876</td>\n",
       "      <td>9.1800</td>\n",
       "      <td>1.9436</td>\n",
       "      <td>188.8000</td>\n",
       "      <td>42.765</td>\n",
       "      <td>42.1678</td>\n",
       "      <td>0.3701</td>\n",
       "      <td>1.1632</td>\n",
       "      <td>6.8283</td>\n",
       "    </tr>\n",
       "    <tr>\n",
       "      <th>5696</th>\n",
       "      <td>1999-01-06</td>\n",
       "      <td>1.8820</td>\n",
       "      <td>NaN</td>\n",
       "      <td>NaN</td>\n",
       "      <td>1.7711</td>\n",
       "      <td>1.6116</td>\n",
       "      <td>NaN</td>\n",
       "      <td>0.58200</td>\n",
       "      <td>34.850</td>\n",
       "      <td>7.4452</td>\n",
       "      <td>...</td>\n",
       "      <td>1.3168</td>\n",
       "      <td>27.4315</td>\n",
       "      <td>9.3050</td>\n",
       "      <td>1.9699</td>\n",
       "      <td>188.7000</td>\n",
       "      <td>42.778</td>\n",
       "      <td>42.6949</td>\n",
       "      <td>0.3722</td>\n",
       "      <td>1.1743</td>\n",
       "      <td>6.7307</td>\n",
       "    </tr>\n",
       "    <tr>\n",
       "      <th>5697</th>\n",
       "      <td>1999-01-05</td>\n",
       "      <td>1.8944</td>\n",
       "      <td>NaN</td>\n",
       "      <td>NaN</td>\n",
       "      <td>1.7965</td>\n",
       "      <td>1.6123</td>\n",
       "      <td>NaN</td>\n",
       "      <td>0.58230</td>\n",
       "      <td>34.917</td>\n",
       "      <td>7.4495</td>\n",
       "      <td>...</td>\n",
       "      <td>1.3168</td>\n",
       "      <td>26.5876</td>\n",
       "      <td>9.4025</td>\n",
       "      <td>1.9655</td>\n",
       "      <td>188.7750</td>\n",
       "      <td>42.848</td>\n",
       "      <td>42.5048</td>\n",
       "      <td>0.3728</td>\n",
       "      <td>1.1790</td>\n",
       "      <td>6.7975</td>\n",
       "    </tr>\n",
       "    <tr>\n",
       "      <th>5698</th>\n",
       "      <td>1999-01-04</td>\n",
       "      <td>1.9100</td>\n",
       "      <td>NaN</td>\n",
       "      <td>NaN</td>\n",
       "      <td>1.8004</td>\n",
       "      <td>1.6168</td>\n",
       "      <td>NaN</td>\n",
       "      <td>0.58231</td>\n",
       "      <td>35.107</td>\n",
       "      <td>7.4501</td>\n",
       "      <td>...</td>\n",
       "      <td>1.3111</td>\n",
       "      <td>25.2875</td>\n",
       "      <td>9.4696</td>\n",
       "      <td>1.9554</td>\n",
       "      <td>189.0450</td>\n",
       "      <td>42.991</td>\n",
       "      <td>42.6799</td>\n",
       "      <td>0.3723</td>\n",
       "      <td>1.1789</td>\n",
       "      <td>6.9358</td>\n",
       "    </tr>\n",
       "  </tbody>\n",
       "</table>\n",
       "<p>5 rows × 41 columns</p>\n",
       "</div>"
      ],
      "text/plain": [
       "     Period\\Unit: [Australian dollar ] [Bulgarian lev ] [Brazilian real ]  \\\n",
       "5694   1999-01-08               1.8406              NaN               NaN   \n",
       "5695   1999-01-07               1.8474              NaN               NaN   \n",
       "5696   1999-01-06               1.8820              NaN               NaN   \n",
       "5697   1999-01-05               1.8944              NaN               NaN   \n",
       "5698   1999-01-04               1.9100              NaN               NaN   \n",
       "\n",
       "     [Canadian dollar ] [Swiss franc ] [Chinese yuan renminbi ]  \\\n",
       "5694             1.7643         1.6138                      NaN   \n",
       "5695             1.7602         1.6165                      NaN   \n",
       "5696             1.7711         1.6116                      NaN   \n",
       "5697             1.7965         1.6123                      NaN   \n",
       "5698             1.8004         1.6168                      NaN   \n",
       "\n",
       "     [Cypriot pound ] [Czech koruna ] [Danish krone ]  ... [Romanian leu ]  \\\n",
       "5694          0.58187          34.938          7.4433  ...          1.3143   \n",
       "5695          0.58187          34.886          7.4431  ...          1.3092   \n",
       "5696          0.58200          34.850          7.4452  ...          1.3168   \n",
       "5697          0.58230          34.917          7.4495  ...          1.3168   \n",
       "5698          0.58231          35.107          7.4501  ...          1.3111   \n",
       "\n",
       "     [Russian rouble ] [Swedish krona ] [Singapore dollar ]  \\\n",
       "5694           27.2075           9.1650              1.9537   \n",
       "5695           26.9876           9.1800              1.9436   \n",
       "5696           27.4315           9.3050              1.9699   \n",
       "5697           26.5876           9.4025              1.9655   \n",
       "5698           25.2875           9.4696              1.9554   \n",
       "\n",
       "     [Slovenian tolar ] [Slovak koruna ] [Thai baht ] [Turkish lira ]  \\\n",
       "5694           188.8400           42.560      42.5590          0.3718   \n",
       "5695           188.8000           42.765      42.1678          0.3701   \n",
       "5696           188.7000           42.778      42.6949          0.3722   \n",
       "5697           188.7750           42.848      42.5048          0.3728   \n",
       "5698           189.0450           42.991      42.6799          0.3723   \n",
       "\n",
       "     [US dollar ]  [South African rand ]  \n",
       "5694       1.1659                 6.7855  \n",
       "5695       1.1632                 6.8283  \n",
       "5696       1.1743                 6.7307  \n",
       "5697       1.1790                 6.7975  \n",
       "5698       1.1789                 6.9358  \n",
       "\n",
       "[5 rows x 41 columns]"
      ]
     },
     "execution_count": 2,
     "metadata": {},
     "output_type": "execute_result"
    }
   ],
   "source": [
    "exchange_rates.tail(5)"
   ]
  },
  {
   "cell_type": "code",
   "execution_count": 3,
   "metadata": {},
   "outputs": [
    {
     "name": "stdout",
     "output_type": "stream",
     "text": [
      "<class 'pandas.core.frame.DataFrame'>\n",
      "RangeIndex: 5699 entries, 0 to 5698\n",
      "Data columns (total 41 columns):\n",
      " #   Column                    Non-Null Count  Dtype  \n",
      "---  ------                    --------------  -----  \n",
      " 0   Period\\Unit:              5699 non-null   object \n",
      " 1   [Australian dollar ]      5699 non-null   object \n",
      " 2   [Bulgarian lev ]          5297 non-null   object \n",
      " 3   [Brazilian real ]         5431 non-null   object \n",
      " 4   [Canadian dollar ]        5699 non-null   object \n",
      " 5   [Swiss franc ]            5699 non-null   object \n",
      " 6   [Chinese yuan renminbi ]  5431 non-null   object \n",
      " 7   [Cypriot pound ]          2346 non-null   object \n",
      " 8   [Czech koruna ]           5699 non-null   object \n",
      " 9   [Danish krone ]           5699 non-null   object \n",
      " 10  [Estonian kroon ]         3130 non-null   object \n",
      " 11  [UK pound sterling ]      5699 non-null   object \n",
      " 12  [Greek drachma ]          520 non-null    object \n",
      " 13  [Hong Kong dollar ]       5699 non-null   object \n",
      " 14  [Croatian kuna ]          5431 non-null   object \n",
      " 15  [Hungarian forint ]       5699 non-null   object \n",
      " 16  [Indonesian rupiah ]      5699 non-null   object \n",
      " 17  [Israeli shekel ]         5431 non-null   object \n",
      " 18  [Indian rupee ]           5431 non-null   object \n",
      " 19  [Iceland krona ]          3292 non-null   float64\n",
      " 20  [Japanese yen ]           5699 non-null   object \n",
      " 21  [Korean won ]             5699 non-null   object \n",
      " 22  [Lithuanian litas ]       4159 non-null   object \n",
      " 23  [Latvian lats ]           3904 non-null   object \n",
      " 24  [Maltese lira ]           2346 non-null   object \n",
      " 25  [Mexican peso ]           5699 non-null   object \n",
      " 26  [Malaysian ringgit ]      5699 non-null   object \n",
      " 27  [Norwegian krone ]        5699 non-null   object \n",
      " 28  [New Zealand dollar ]     5699 non-null   object \n",
      " 29  [Philippine peso ]        5699 non-null   object \n",
      " 30  [Polish zloty ]           5699 non-null   object \n",
      " 31  [Romanian leu ]           5637 non-null   float64\n",
      " 32  [Russian rouble ]         5699 non-null   object \n",
      " 33  [Swedish krona ]          5699 non-null   object \n",
      " 34  [Singapore dollar ]       5699 non-null   object \n",
      " 35  [Slovenian tolar ]        2085 non-null   object \n",
      " 36  [Slovak koruna ]          2608 non-null   object \n",
      " 37  [Thai baht ]              5699 non-null   object \n",
      " 38  [Turkish lira ]           5637 non-null   float64\n",
      " 39  [US dollar ]              5699 non-null   object \n",
      " 40  [South African rand ]     5699 non-null   object \n",
      "dtypes: float64(3), object(38)\n",
      "memory usage: 1.8+ MB\n"
     ]
    }
   ],
   "source": [
    "exchange_rates.info()"
   ]
  },
  {
   "cell_type": "markdown",
   "metadata": {},
   "source": [
    "We will be focusing on the dollar, so we look at its descriptive info. We see that the column name should be corrected to remove the brackets and empty space. Additionally, we will give the ''Period\\\\Unit:' column a cleaner name."
   ]
  },
  {
   "cell_type": "code",
   "execution_count": 4,
   "metadata": {},
   "outputs": [],
   "source": [
    "exchange_rates.rename(columns={'[US dollar ]': 'US_dollar',\n",
    "                               'Period\\\\Unit:': 'Time'},\n",
    "                      inplace=True)\n",
    "exchange_rates['Time'] = pd.to_datetime(exchange_rates['Time'])\n",
    "exchange_rates.sort_values('Time', inplace=True)\n",
    "exchange_rates.reset_index(drop=True, inplace=True)"
   ]
  },
  {
   "cell_type": "code",
   "execution_count": 5,
   "metadata": {},
   "outputs": [
    {
     "data": {
      "text/plain": [
       "-         62\n",
       "1.2276     9\n",
       "1.1215     8\n",
       "1.1305     7\n",
       "1.0867     6\n",
       "          ..\n",
       "0.8453     1\n",
       "1.1323     1\n",
       "1.1192     1\n",
       "1.0923     1\n",
       "0.9312     1\n",
       "Name: US_dollar, Length: 3528, dtype: int64"
      ]
     },
     "execution_count": 5,
     "metadata": {},
     "output_type": "execute_result"
    }
   ],
   "source": [
    "euro_to_dollar = exchange_rates[['Time', 'US_dollar']]\n",
    "\n",
    "euro_to_dollar['US_dollar'].value_counts()"
   ]
  },
  {
   "cell_type": "markdown",
   "metadata": {},
   "source": [
    "We see that there are 62 rows with just a '-' as a value. We will drop these in the next frame."
   ]
  },
  {
   "cell_type": "code",
   "execution_count": 6,
   "metadata": {},
   "outputs": [],
   "source": [
    "euro_to_dollar = euro_to_dollar.drop(euro_to_dollar.loc[euro_to_dollar['US_dollar'] == '-'].index)"
   ]
  },
  {
   "cell_type": "markdown",
   "metadata": {},
   "source": [
    "We will also convert the dollar column to float type to facilitate more operations going forwards."
   ]
  },
  {
   "cell_type": "code",
   "execution_count": 7,
   "metadata": {},
   "outputs": [],
   "source": [
    "euro_to_dollar['US_dollar'] = euro_to_dollar['US_dollar'].astype(float)"
   ]
  },
  {
   "cell_type": "code",
   "execution_count": 30,
   "metadata": {},
   "outputs": [
    {
     "data": {
      "text/plain": [
       "count    5637.000000\n",
       "mean        1.199704\n",
       "std         0.162328\n",
       "min         0.825200\n",
       "25%         1.098200\n",
       "50%         1.202300\n",
       "75%         1.320300\n",
       "max         1.599000\n",
       "Name: US_dollar, dtype: float64"
      ]
     },
     "execution_count": 30,
     "metadata": {},
     "output_type": "execute_result"
    }
   ],
   "source": [
    "euro_to_dollar['US_dollar'].describe()"
   ]
  },
  {
   "cell_type": "code",
   "execution_count": 8,
   "metadata": {},
   "outputs": [],
   "source": [
    "rolling_mean = euro_to_dollar['US_dollar'].rolling(30).mean()\n"
   ]
  },
  {
   "cell_type": "markdown",
   "metadata": {},
   "source": [
    "Next, we will create columns for day and month. This will allow us to group by day and month over the entire dataset, and thereby get a historic average for every day."
   ]
  },
  {
   "cell_type": "code",
   "execution_count": 41,
   "metadata": {},
   "outputs": [],
   "source": [
    "just_day = euro_to_dollar['Time'].dt.day\n",
    "just_month = euro_to_dollar['Time'].dt.month"
   ]
  },
  {
   "cell_type": "code",
   "execution_count": 42,
   "metadata": {},
   "outputs": [],
   "source": [
    "euro_to_dollar['just_day'] = just_day\n",
    "euro_to_dollar['just_month'] = just_month"
   ]
  },
  {
   "cell_type": "code",
   "execution_count": 11,
   "metadata": {},
   "outputs": [],
   "source": [
    "grouped_df = euro_to_dollar.groupby(['just_month', 'just_day'], as_index = False)['US_dollar'].mean()"
   ]
  },
  {
   "cell_type": "code",
   "execution_count": 12,
   "metadata": {},
   "outputs": [],
   "source": [
    "nov_dec = grouped_df[(grouped_df['just_month']== 11)|(grouped_df['just_month'] == 12)] "
   ]
  },
  {
   "cell_type": "markdown",
   "metadata": {},
   "source": [
    "We then create for segments we will graph- the first and second halves of both November and December. We also note the mean for each segment, which we will use in our graph."
   ]
  },
  {
   "cell_type": "code",
   "execution_count": 43,
   "metadata": {},
   "outputs": [],
   "source": [
    "nov_first_half = nov_dec[:16]['US_dollar']"
   ]
  },
  {
   "cell_type": "code",
   "execution_count": 44,
   "metadata": {},
   "outputs": [
    {
     "data": {
      "text/plain": [
       "1.1955683593750002"
      ]
     },
     "execution_count": 44,
     "metadata": {},
     "output_type": "execute_result"
    }
   ],
   "source": [
    "nov_first_half.mean()"
   ]
  },
  {
   "cell_type": "code",
   "execution_count": 45,
   "metadata": {},
   "outputs": [],
   "source": [
    "nov_second_half = nov_dec[15:31]['US_dollar']"
   ]
  },
  {
   "cell_type": "code",
   "execution_count": 46,
   "metadata": {},
   "outputs": [
    {
     "data": {
      "text/plain": [
       "1.1956765104166667"
      ]
     },
     "execution_count": 46,
     "metadata": {},
     "output_type": "execute_result"
    }
   ],
   "source": [
    "nov_second_half.mean()"
   ]
  },
  {
   "cell_type": "code",
   "execution_count": 49,
   "metadata": {},
   "outputs": [],
   "source": [
    "dec_first_half = nov_dec[30:46]['US_dollar']"
   ]
  },
  {
   "cell_type": "code",
   "execution_count": 50,
   "metadata": {},
   "outputs": [
    {
     "data": {
      "text/plain": [
       "1.2039922135416667"
      ]
     },
     "execution_count": 50,
     "metadata": {},
     "output_type": "execute_result"
    }
   ],
   "source": [
    "dec_first_half.mean()"
   ]
  },
  {
   "cell_type": "code",
   "execution_count": 51,
   "metadata": {},
   "outputs": [],
   "source": [
    "dec_second_half = nov_dec[45:61]['US_dollar'] "
   ]
  },
  {
   "cell_type": "code",
   "execution_count": 52,
   "metadata": {},
   "outputs": [
    {
     "data": {
      "text/plain": [
       "1.2143480527210884"
      ]
     },
     "execution_count": 52,
     "metadata": {},
     "output_type": "execute_result"
    }
   ],
   "source": [
    "dec_second_half.mean()"
   ]
  },
  {
   "cell_type": "code",
   "execution_count": 53,
   "metadata": {},
   "outputs": [
    {
     "data": {
      "text/html": [
       "<div>\n",
       "<style scoped>\n",
       "    .dataframe tbody tr th:only-of-type {\n",
       "        vertical-align: middle;\n",
       "    }\n",
       "\n",
       "    .dataframe tbody tr th {\n",
       "        vertical-align: top;\n",
       "    }\n",
       "\n",
       "    .dataframe thead th {\n",
       "        text-align: right;\n",
       "    }\n",
       "</style>\n",
       "<table border=\"1\" class=\"dataframe\">\n",
       "  <thead>\n",
       "    <tr style=\"text-align: right;\">\n",
       "      <th></th>\n",
       "      <th>just_month</th>\n",
       "      <th>just_day</th>\n",
       "      <th>US_dollar</th>\n",
       "    </tr>\n",
       "  </thead>\n",
       "  <tbody>\n",
       "    <tr>\n",
       "      <th>count</th>\n",
       "      <td>59.000000</td>\n",
       "      <td>59.000000</td>\n",
       "      <td>59.000000</td>\n",
       "    </tr>\n",
       "    <tr>\n",
       "      <th>mean</th>\n",
       "      <td>11.491525</td>\n",
       "      <td>15.423729</td>\n",
       "      <td>1.201694</td>\n",
       "    </tr>\n",
       "    <tr>\n",
       "      <th>std</th>\n",
       "      <td>0.504219</td>\n",
       "      <td>8.841913</td>\n",
       "      <td>0.017565</td>\n",
       "    </tr>\n",
       "    <tr>\n",
       "      <th>min</th>\n",
       "      <td>11.000000</td>\n",
       "      <td>1.000000</td>\n",
       "      <td>1.175763</td>\n",
       "    </tr>\n",
       "    <tr>\n",
       "      <th>25%</th>\n",
       "      <td>11.000000</td>\n",
       "      <td>8.000000</td>\n",
       "      <td>1.186256</td>\n",
       "    </tr>\n",
       "    <tr>\n",
       "      <th>50%</th>\n",
       "      <td>11.000000</td>\n",
       "      <td>15.000000</td>\n",
       "      <td>1.201953</td>\n",
       "    </tr>\n",
       "    <tr>\n",
       "      <th>75%</th>\n",
       "      <td>12.000000</td>\n",
       "      <td>22.500000</td>\n",
       "      <td>1.212694</td>\n",
       "    </tr>\n",
       "    <tr>\n",
       "      <th>max</th>\n",
       "      <td>12.000000</td>\n",
       "      <td>31.000000</td>\n",
       "      <td>1.272229</td>\n",
       "    </tr>\n",
       "  </tbody>\n",
       "</table>\n",
       "</div>"
      ],
      "text/plain": [
       "       just_month   just_day  US_dollar\n",
       "count   59.000000  59.000000  59.000000\n",
       "mean    11.491525  15.423729   1.201694\n",
       "std      0.504219   8.841913   0.017565\n",
       "min     11.000000   1.000000   1.175763\n",
       "25%     11.000000   8.000000   1.186256\n",
       "50%     11.000000  15.000000   1.201953\n",
       "75%     12.000000  22.500000   1.212694\n",
       "max     12.000000  31.000000   1.272229"
      ]
     },
     "execution_count": 53,
     "metadata": {},
     "output_type": "execute_result"
    }
   ],
   "source": [
    "nov_dec.describe()"
   ]
  },
  {
   "cell_type": "code",
   "execution_count": 54,
   "metadata": {},
   "outputs": [
    {
     "data": {
      "image/png": "[encoded data removed]",
      "text/plain": [
       "<Figure size 800x1000 with 4 Axes>"
      ]
     },
     "metadata": {},
     "output_type": "display_data"
    }
   ],
   "source": [
    "fig, (ax1, ax2, ax3, ax4) = plt.subplots(nrows = 4, ncols = 1, figsize = (8, 10))\n",
    "\n",
    "axes  = [ax1, ax2, ax3, ax4]\n",
    "for ax in axes:\n",
    "    ax.plot(range(59), nov_dec['US_dollar'], alpha = .4, linewidth = .8 )\n",
    "    ax.set_xticklabels([])\n",
    "    ax.set_yticklabels([])\n",
    "    ax.tick_params(bottom=0, left=0) \n",
    "    for location in ['left', 'right', 'top', 'bottom']:\n",
    "        ax.spines[location].set_visible(False)\n",
    "count = 0\n",
    "ax1.plot(range(len(nov_first_half)), nov_first_half,  linewidth = 1.7 )\n",
    "count += (len(nov_first_half)-1)\n",
    "ax2.plot(range(count , len(nov_second_half) + count), nov_second_half,  linewidth = 1.7 )\n",
    "count += len(nov_second_half)-1\n",
    "ax3.plot(range(count , len(dec_first_half)+ count), dec_first_half,  linewidth = 1.7 )            \n",
    "count += len(dec_first_half)-1           \n",
    "ax4.plot(range(count , len(dec_second_half)+ count), dec_second_half,  linewidth = 1.7 ) \n",
    "\n",
    "ax1.text(12, 1.165, \"$1.18\", weight = 'bold')\n",
    "ax1.text(56, 1.28, '$1.27', weight = 'bold')\n",
    "ax1.text(.2, 1.22, \"November 1- 15\", rotation = -9, size  = 10, color  = \"#F97306\", weight = 'bold')\n",
    "ax1.text(.2, 1.155, \"Average Rate = $1.196\", color  = \"#F97306\", weight = 'bold')\n",
    "ax1.text(-1, 1.32, 'Euro-to-US dollar Exchange Rate Over the Holiday Shopping Season', weight = 'bold', size = 14)\n",
    "ax1.text(9, 1.305, \"The overall historic average is an exchange rate of $1.19 (1999-2020)\", size = 12 )\n",
    "\n",
    "ax2.text(16, 1.22, \"November 16-30\" ,rotation = -2, color  = \"#F97306\", weight = 'bold')\n",
    "ax2.text(16, 1.155,\"Average Rate = $1.196\", color  = \"#F97306\", weight = 'bold') \n",
    "\n",
    "ax3.text(31, 1.225, \"December 1- 15\" , color  = \"#F97306\", weight = 'bold')\n",
    "ax3.text(31, 1.155,\"Average Rate = $1.203\", color  = \"#F97306\", weight = 'bold' )\n",
    "\n",
    "ax4.text(45.2, 1.23, 'December 16-31', color  = \"#F97306\", rotation = 25, weight = 'bold')\n",
    "ax4.text(46, 1.155,\"Average Rate = $1.214\", color  = \"#F97306\", weight = 'bold' )\n",
    "\n",
    "\n",
    "plt.show()"
   ]
  },
  {
   "cell_type": "markdown",
   "metadata": {},
   "source": [
    "Overall, it seems that the holiday season does not have a large effect on the exchange rate. The rate remains virtually unchanged in the second period, where Black Friday and Cyber Monday occur, implying that the strenth or weakness of those days has little effect on the exchange rate. There is movement upwards in both the third and fourth periods, implying some aspect of strength in the \n",
    "EU's economy in December. It is possible that a strong holiday season around the 7th and going forward contributes to this. It is also possible that unmet expectations in the American holiday sales also contribute. A more detailed study would require doing year by year analysis of the rate against retail data.\n",
    "As an aside, one very curious finding is the significant spike right at New Year's. This is most probably not correlated to the holiday shopping, but is definitely worthy of further investigation."
   ]
  },
  {
   "cell_type": "code",
   "execution_count": null,
   "metadata": {},
   "outputs": [],
   "source": []
  }
 ],
 "metadata": {
  "kernelspec": {
   "display_name": "Python 3 (ipykernel)",
   "language": "python",
   "name": "python3"
  },
  "language_info": {
   "codemirror_mode": {
    "name": "ipython",
    "version": 3
   },
   "file_extension": ".py",
   "mimetype": "text/x-python",
   "name": "python",
   "nbconvert_exporter": "python",
   "pygments_lexer": "ipython3",
   "version": "3.9.12"
  }
 },
 "nbformat": 4,
 "nbformat_minor": 4
}
